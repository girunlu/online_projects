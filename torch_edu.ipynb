{
  "cells": [
    {
      "cell_type": "code",
      "execution_count": null,
      "id": "dfb9a79f-79ae-4772-8d30-9e24f5b12e19",
      "metadata": {
        "id": "dfb9a79f-79ae-4772-8d30-9e24f5b12e19",
        "colab": {
          "base_uri": "https://localhost:8080/"
        },
        "outputId": "30bde8b3-f43e-494a-9c97-bb9e6c93518e"
      },
      "outputs": [
        {
          "output_type": "execute_result",
          "data": {
            "text/plain": [
              "<torch._C.Generator at 0x7f77dd1343d0>"
            ]
          },
          "metadata": {},
          "execution_count": 1
        }
      ],
      "source": [
        "import numpy as np\n",
        "import matplotlib.pyplot as plt\n",
        "\n",
        "import torch\n",
        "from torch import nn\n",
        "import torch.nn.functional as F\n",
        "from torch.utils.data import Dataset, DataLoader\n",
        "\n",
        "torch.manual_seed(0)"
      ]
    },
    {
      "cell_type": "code",
      "execution_count": null,
      "id": "dfb1c141-543c-4e1b-bf8b-57d559f22e6a",
      "metadata": {
        "id": "dfb1c141-543c-4e1b-bf8b-57d559f22e6a",
        "outputId": "e118f7a2-9425-419f-fe03-8e65d1cddb26",
        "colab": {
          "base_uri": "https://localhost:8080/"
        }
      },
      "outputs": [
        {
          "output_type": "execute_result",
          "data": {
            "text/plain": [
              "(tensor([[-0.4710,  0.9707, -1.1359],\n",
              "         [ 0.6825,  1.4895, -1.5900]], dtype=torch.float64),\n",
              " tensor([[ 1.5410, -0.2934],\n",
              "         [-2.1788,  0.5684],\n",
              "         [-1.0845, -1.3986]], dtype=torch.float64),\n",
              " tensor([[-1.6089,  2.2787],\n",
              "         [-0.4693,  2.8702]], dtype=torch.float64))"
            ]
          },
          "metadata": {},
          "execution_count": 2
        }
      ],
      "source": [
        "asd = torch.from_numpy(np.random.randn(2,3))\n",
        "asd2 = torch.randn((3,2), dtype=torch.float64)\n",
        "\n",
        "asd, asd2 , torch.matmul(asd, asd2)"
      ]
    },
    {
      "cell_type": "code",
      "execution_count": null,
      "id": "443650b6-eb9c-4b2e-a899-6209da810c59",
      "metadata": {
        "id": "443650b6-eb9c-4b2e-a899-6209da810c59",
        "outputId": "8cfa8dfa-0cb8-4c01-8c7d-10d301338433",
        "colab": {
          "base_uri": "https://localhost:8080/"
        }
      },
      "outputs": [
        {
          "output_type": "execute_result",
          "data": {
            "text/plain": [
              "tensor([[ 1.0700, -1.2081, -2.2205],\n",
              "        [ 0.3890,  2.0580, -2.9886]], dtype=torch.float64)"
            ]
          },
          "metadata": {},
          "execution_count": 3
        }
      ],
      "source": [
        "asd + asd2.T"
      ]
    },
    {
      "cell_type": "code",
      "execution_count": null,
      "id": "6b53913f-4cd8-4ca9-ab8d-74927538e50c",
      "metadata": {
        "id": "6b53913f-4cd8-4ca9-ab8d-74927538e50c",
        "outputId": "f3ea43ca-0de5-472d-9cb5-5278bce39cd0",
        "colab": {
          "base_uri": "https://localhost:8080/"
        }
      },
      "outputs": [
        {
          "output_type": "stream",
          "name": "stdout",
          "text": [
            "tensor([3.], requires_grad=True)\n",
            "tensor([27.], grad_fn=<MulBackward0>)\n"
          ]
        },
        {
          "output_type": "execute_result",
          "data": {
            "text/plain": [
              "tensor([18.])"
            ]
          },
          "metadata": {},
          "execution_count": 4
        }
      ],
      "source": [
        "x = torch.Tensor([3]).requires_grad_(True)\n",
        "print(x)\n",
        "\n",
        "f = lambda x: 3*x**2\n",
        "print(f(x))\n",
        "\n",
        "result = f(x)\n",
        "result.backward()\n",
        "x.grad"
      ]
    },
    {
      "cell_type": "code",
      "execution_count": null,
      "id": "aa05603a-7b14-43c4-b7f2-4f53705470c8",
      "metadata": {
        "id": "aa05603a-7b14-43c4-b7f2-4f53705470c8",
        "outputId": "2c579492-1acb-481f-b2e0-78cbd888717f",
        "colab": {
          "base_uri": "https://localhost:8080/",
          "height": 283
        }
      },
      "outputs": [
        {
          "output_type": "stream",
          "name": "stdout",
          "text": [
            "tensor([1, 2, 3, 4, 5]) tensor([-2.0075, 12.0729,  1.5309, 14.0562,  8.0742]) torch.Size([500]) torch.Size([500])\n"
          ]
        },
        {
          "output_type": "display_data",
          "data": {
            "text/plain": [
              "<Figure size 432x288 with 1 Axes>"
            ],
            "image/png": "[encoded data removed]"
          },
          "metadata": {
            "needs_background": "light"
          }
        }
      ],
      "source": [
        "torch.manual_seed(0)\n",
        "\n",
        "xdata = torch.arange(1, 501, 1)\n",
        "\n",
        "noise = torch.rand(500)+1\n",
        "ydata = 2*xdata*noise + 5*(-1)**xdata\n",
        "\n",
        "plt.scatter(xdata, ydata, s=1)\n",
        "print(xdata[:5], ydata[:5], xdata.shape, ydata.size())"
      ]
    },
    {
      "cell_type": "code",
      "execution_count": null,
      "id": "5b3cf0ed-00e4-49ef-9297-6c9cf478186d",
      "metadata": {
        "id": "5b3cf0ed-00e4-49ef-9297-6c9cf478186d",
        "outputId": "5d52ee58-8105-4826-87a4-1f315b8b7951",
        "colab": {
          "base_uri": "https://localhost:8080/"
        }
      },
      "outputs": [
        {
          "output_type": "execute_result",
          "data": {
            "text/plain": [
              "20"
            ]
          },
          "metadata": {},
          "execution_count": 38
        }
      ],
      "source": [
        "torch.manual_seed(0)\n",
        "\n",
        "class NUMdata(Dataset):\n",
        "    def __init__(self):\n",
        "        \n",
        "        self.x = xdata.float()\n",
        "        self.y = ydata.float()\n",
        "        \n",
        "        self.n_samples = xdata.shape[0]\n",
        "        \n",
        "    def __getitem__(self, index):\n",
        "        \n",
        "        return self.x[index], self.y[index]\n",
        "    \n",
        "    def __len__(self):\n",
        "        return self.n_samples\n",
        "        \n",
        "dataset = NUMdata()\n",
        "dataloader = DataLoader(dataset, batch_size=25, shuffle=True, drop_last=True)\n",
        "len(dataloader)"
      ]
    },
    {
      "cell_type": "code",
      "source": [
        "next(iter(dataloader))"
      ],
      "metadata": {
        "id": "JIGTUPzKtFL4",
        "colab": {
          "base_uri": "https://localhost:8080/"
        },
        "outputId": "df117b45-c0c4-41f6-d5f5-916e4e20f166"
      },
      "id": "JIGTUPzKtFL4",
      "execution_count": null,
      "outputs": [
        {
          "output_type": "execute_result",
          "data": {
            "text/plain": [
              "[tensor([227., 377., 162., 124., 426., 372.,  46., 343., 269., 386., 252., 136.,\n",
              "         403., 355., 170., 104.,  12.,  15.,  72., 295., 449., 359., 374.,  99.,\n",
              "          17.]),\n",
              " tensor([ 514.3123, 1436.0740,  459.1925,  435.6754,  893.6622, 1379.3156,\n",
              "          119.2856, 1305.6198, 1023.1273, 1548.8750,  794.3071,  399.0192,\n",
              "         1013.7295, 1123.0558,  503.5272,  290.8248,   38.6412,   33.8167,\n",
              "          194.6142,  813.6539, 1362.4757,  821.2489,  944.5248,  214.7717,\n",
              "           52.7207])]"
            ]
          },
          "metadata": {},
          "execution_count": 18
        }
      ]
    },
    {
      "cell_type": "code",
      "execution_count": null,
      "id": "6f334a5f-b9db-40fa-8f45-f129a7543882",
      "metadata": {
        "id": "6f334a5f-b9db-40fa-8f45-f129a7543882",
        "outputId": "2acc2719-f8df-41a9-bdcc-0e0b4232e744",
        "colab": {
          "base_uri": "https://localhost:8080/"
        }
      },
      "outputs": [
        {
          "output_type": "execute_result",
          "data": {
            "text/plain": [
              "pred_model(\n",
              "  (linear_Stack): Sequential(\n",
              "    (0): Linear(in_features=1, out_features=5, bias=True)\n",
              "    (1): Linear(in_features=5, out_features=5, bias=True)\n",
              "    (2): Linear(in_features=5, out_features=1, bias=True)\n",
              "  )\n",
              ")"
            ]
          },
          "metadata": {},
          "execution_count": 42
        }
      ],
      "source": [
        "torch.manual_seed(0)\n",
        "class pred_model(nn.Module):\n",
        "    def __init__(self):\n",
        "        super(pred_model, self).__init__()\n",
        "\n",
        "        self.linear_Stack = nn.Sequential(nn.Linear(1,5),\n",
        "                                          nn.Linear(5,5),\n",
        "                                          nn.Linear(5,1))\n",
        "    def forward(self,x):\n",
        "\n",
        "        return self.linear_Stack(x)\n",
        "    \n",
        "model = pred_model()\n",
        "model"
      ]
    },
    {
      "cell_type": "code",
      "execution_count": null,
      "id": "e72162c6-3e03-4b2c-87aa-dc8b01b69213",
      "metadata": {
        "id": "e72162c6-3e03-4b2c-87aa-dc8b01b69213",
        "colab": {
          "base_uri": "https://localhost:8080/"
        },
        "outputId": "11c6288a-687c-413c-f832-5efaceff4fcd"
      },
      "outputs": [
        {
          "output_type": "stream",
          "name": "stdout",
          "text": [
            "epoch: 75/300, loss: 787.378\n",
            "epoch: 150/300, loss: 202.568\n",
            "epoch: 225/300, loss: 138.802\n",
            "epoch: 300/300, loss: 108.785\n"
          ]
        }
      ],
      "source": [
        "torch.manual_seed(0)\n",
        "num_epochs = 300\n",
        "total_step = len(dataloader)\n",
        "lr = 1e-4\n",
        "\n",
        "loss_fn = nn.L1Loss()\n",
        "optimizer = torch.optim.Adam(model.parameters(), lr=lr)\n",
        "\n",
        "for epoch in range(1,num_epochs+1):\n",
        "    for i, (inputs, outputs) in enumerate(dataloader):\n",
        "        \n",
        "        inputs = inputs.view(inputs.size(0), -1)\n",
        "        outputs = outputs.unsqueeze(-1)\n",
        "        \n",
        "        out = model(inputs)\n",
        "        loss = loss_fn(out, outputs)\n",
        "        \n",
        "        optimizer.zero_grad()\n",
        "        loss.backward()\n",
        "        optimizer.step()\n",
        "\n",
        "    \n",
        "    if epoch%75==0:\n",
        "      print(f\"epoch: {epoch}/{num_epochs}, loss: {loss:.3f}\")\n",
        "    "
      ]
    },
    {
      "cell_type": "code",
      "execution_count": null,
      "id": "90abfb56-fa3e-4530-8825-ff7d29457160",
      "metadata": {
        "id": "90abfb56-fa3e-4530-8825-ff7d29457160",
        "colab": {
          "base_uri": "https://localhost:8080/",
          "height": 283
        },
        "outputId": "41cf3df1-644e-46c2-f94f-0a53bcaef31d"
      },
      "outputs": [
        {
          "output_type": "execute_result",
          "data": {
            "text/plain": [
              "<matplotlib.collections.PathCollection at 0x7f77dae65190>"
            ]
          },
          "metadata": {},
          "execution_count": 21
        },
        {
          "output_type": "display_data",
          "data": {
            "text/plain": [
              "<Figure size 432x288 with 1 Axes>"
            ],
            "image/png": "[encoded data removed]"
          },
          "metadata": {
            "needs_background": "light"
          }
        }
      ],
      "source": [
        "model.eval()\n",
        "preds = model(xdata.view(-1,1).float())\n",
        "\n",
        "plt.scatter(xdata, ydata, s=1)\n",
        "plt.scatter(xdata, preds.detach().numpy(), s=1)\n"
      ]
    }
  ],
  "metadata": {
    "kernelspec": {
      "display_name": "Python 3 (ipykernel)",
      "language": "python",
      "name": "python3"
    },
    "language_info": {
      "codemirror_mode": {
        "name": "ipython",
        "version": 3
      },
      "file_extension": ".py",
      "mimetype": "text/x-python",
      "name": "python",
      "nbconvert_exporter": "python",
      "pygments_lexer": "ipython3",
      "version": "3.9.13"
    },
    "colab": {
      "provenance": []
    }
  },
  "nbformat": 4,
  "nbformat_minor": 5
}