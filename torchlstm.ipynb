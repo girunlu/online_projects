{
 "cells": [
  {
   "cell_type": "code",
   "execution_count": 1,
   "id": "cb889a67-00d8-4d95-8be6-8abc0fd51184",
   "metadata": {},
   "outputs": [
    {
     "data": {
      "text/plain": [
       "'cuda:0'"
      ]
     },
     "execution_count": 1,
     "metadata": {},
     "output_type": "execute_result"
    }
   ],
   "source": [
    "import torch\n",
    "import torch.nn as nn\n",
    "import torch.nn.functional as F\n",
    "from torch.utils.data import Dataset, DataLoader\n",
    "\n",
    "from sklearn.model_selection import train_test_split\n",
    "\n",
    "import numpy as np\n",
    "import matplotlib.pyplot as plt\n",
    "\n",
    "device = \"cuda:0\" if torch.cuda.is_available() else \"cpu\"\n",
    "device"
   ]
  },
  {
   "cell_type": "code",
   "execution_count": 2,
   "id": "d9b63b85-0b4c-4b4f-9d6b-35e242717f1d",
   "metadata": {
    "tags": []
   },
   "outputs": [],
   "source": [
    "#dataset, model, training\n",
    "class data(Dataset):\n",
    "    def __init__(self, x, y):\n",
    "        \n",
    "        self.x = torch.from_numpy(x).to(device)\n",
    "        self.y = torch.from_numpy(y).to(device)\n",
    "        self.n_samples = self.x.size(0)\n",
    "        \n",
    "    def __getitem__(self, index):\n",
    "        return self.x[index], self.y[index]\n",
    "    \n",
    "    def __len__(self):\n",
    "        return self.n_samples\n",
    "        "
   ]
  },
  {
   "cell_type": "code",
   "execution_count": 3,
   "id": "4b6a32ac-746a-418b-bf68-fc9f6b207276",
   "metadata": {},
   "outputs": [
    {
     "name": "stdout",
     "output_type": "stream",
     "text": [
      "15246 3812\n",
      "203 54\n"
     ]
    }
   ],
   "source": [
    "xdata, ydata = np.load(\"datax.npy\"), np.load(\"target.npy\")\n",
    "xtrain, xtest, ytrain, ytest = train_test_split(xdata,ydata, test_size=.2)\n",
    "\n",
    "train_data = data(xtrain, ytrain)\n",
    "test_data = data(xtest, ytest)\n",
    "\n",
    "print(len(train_data), len(test_data))\n",
    "\n",
    "train_loader = DataLoader(train_data, batch_size=75, shuffle=True, drop_last=True)\n",
    "test_loader = DataLoader(test_data, batch_size=70, shuffle=True, drop_last=True)\n",
    "\n",
    "print(len(train_loader), len(test_loader))\n"
   ]
  },
  {
   "cell_type": "code",
   "execution_count": 4,
   "id": "d70e5132-7ade-4afb-b850-a47fb8ab03c4",
   "metadata": {},
   "outputs": [],
   "source": [
    "##lstm stuff check how lstm layer works\n",
    "class extract_tensor(nn.Module):\n",
    "    def forward(self, x):\n",
    "        tensor, _ = x\n",
    "        return tensor[:,-1,:] #the usable lstm output is the last matrix of the hidden state\n",
    "\n",
    "# calculating accuracy in training loop for probabilities  \n",
    "def accuracy(logits, targets):\n",
    "    preds = F.softmax(logits, dim=1)\n",
    "    counts = (torch.argmax(targets,dim=1) == torch.argmax(preds, dim=1)).sum()\n",
    "    return counts"
   ]
  },
  {
   "cell_type": "code",
   "execution_count": 5,
   "id": "1a6e9501-9c0e-4387-8f39-00865c68ba63",
   "metadata": {
    "tags": []
   },
   "outputs": [
    {
     "data": {
      "text/plain": [
       "LSTModel(\n",
       "  (lstm): LSTM(51, 96, num_layers=2, batch_first=True, dropout=0.15)\n",
       "  (arch): Sequential(\n",
       "    (0): extract_tensor()\n",
       "    (1): ReLU()\n",
       "    (2): Flatten(start_dim=1, end_dim=-1)\n",
       "    (3): Linear(in_features=96, out_features=4, bias=True)\n",
       "  )\n",
       ")"
      ]
     },
     "execution_count": 5,
     "metadata": {},
     "output_type": "execute_result"
    }
   ],
   "source": [
    "#building the model\n",
    "class LSTModel(nn.Module):\n",
    "    def __init__(self):\n",
    "        super(LSTModel, self).__init__()\n",
    "        \n",
    "        self.input_size = 51\n",
    "        self.hidden_size = 96\n",
    "        self.seq_len = 45\n",
    "        self.outsize = 4\n",
    "        self.num_layers = 2\n",
    "        self.batch_first = True\n",
    "        self.dropout = .15\n",
    "        \n",
    "        # i could sum them up in the seq part but i just didnt want to\n",
    "        self.lstm = nn.LSTM(input_size=self.input_size, hidden_size=self.hidden_size,\n",
    "                                          num_layers=self.num_layers, batch_first=self.batch_first,\n",
    "                                          dropout=self.dropout)\n",
    "        \n",
    "        self.arch = nn.Sequential(extract_tensor(),\n",
    "                                 nn.ReLU(),\n",
    "                                 nn.Flatten(),\n",
    "                                 nn.Linear(self.hidden_size, self.outsize))\n",
    "        \n",
    "        \n",
    "    def forward(self, x):\n",
    "        \n",
    "        batch_size = x.size(0)\n",
    "        \n",
    "        #notice this is not in the init section, it is because we want to run the model on different batch sizes (e.g. 64 for training 1 for predicting)\n",
    "        h0 = torch.zeros(self.num_layers, batch_size, self.hidden_size).to(device)\n",
    "        c0 = torch.zeros(self.num_layers, batch_size, self.hidden_size).to(device)\n",
    "        \n",
    "        nn.init.xavier_normal_(h0)\n",
    "        nn.init.xavier_normal_(c0)\n",
    "        \n",
    "        out = self.lstm(x, (h0,c0))\n",
    "        \n",
    "        out = self.arch(out)\n",
    "        return out\n",
    "\n",
    "model = LSTModel()\n",
    "model.to(device)"
   ]
  },
  {
   "cell_type": "code",
   "execution_count": 6,
   "id": "5ed3db51-430f-4a07-a5ca-362d7218bf48",
   "metadata": {
    "scrolled": true,
    "tags": []
   },
   "outputs": [
    {
     "name": "stdout",
     "output_type": "stream",
     "text": [
      "epoch 1, step 68/203, loss 1.1716\n",
      "epoch 1, step 136/203, loss 0.8373\n",
      "epoch 1, step 203/203, loss 0.7776\n",
      "accuracy is 0.5219\n",
      "epoch 2, step 68/203, loss 0.6972\n",
      "epoch 2, step 136/203, loss 0.4454\n",
      "epoch 2, step 203/203, loss 0.4514\n",
      "accuracy is 0.7440\n",
      "epoch 3, step 68/203, loss 0.3395\n",
      "epoch 3, step 136/203, loss 0.4052\n",
      "epoch 3, step 203/203, loss 0.4631\n",
      "accuracy is 0.8314\n",
      "epoch 4, step 68/203, loss 0.2846\n",
      "epoch 4, step 136/203, loss 0.3121\n",
      "epoch 4, step 203/203, loss 0.4033\n",
      "accuracy is 0.9089\n",
      "epoch 5, step 68/203, loss 0.1645\n",
      "epoch 5, step 136/203, loss 0.3447\n",
      "epoch 5, step 203/203, loss 0.2434\n",
      "accuracy is 0.9328\n",
      "epoch 6, step 68/203, loss 0.0692\n",
      "epoch 6, step 136/203, loss 0.1407\n",
      "epoch 6, step 203/203, loss 0.0995\n",
      "accuracy is 0.9579\n",
      "epoch 7, step 68/203, loss 0.1743\n",
      "epoch 7, step 136/203, loss 0.0276\n",
      "epoch 7, step 203/203, loss 0.1695\n",
      "accuracy is 0.9601\n",
      "epoch 8, step 68/203, loss 0.0874\n",
      "epoch 8, step 136/203, loss 0.1086\n",
      "epoch 8, step 203/203, loss 0.1454\n",
      "accuracy is 0.9725\n",
      "epoch 9, step 68/203, loss 0.2535\n",
      "epoch 9, step 136/203, loss 0.0326\n",
      "epoch 9, step 203/203, loss 0.1519\n",
      "accuracy is 0.9765\n",
      "epoch 10, step 68/203, loss 0.0271\n",
      "epoch 10, step 136/203, loss 0.0208\n",
      "epoch 10, step 203/203, loss 0.0617\n",
      "accuracy is 0.9710\n",
      "epoch 11, step 68/203, loss 0.0074\n",
      "epoch 11, step 136/203, loss 0.0477\n",
      "epoch 11, step 203/203, loss 0.1960\n",
      "accuracy is 0.9844\n",
      "epoch 12, step 68/203, loss 0.0062\n",
      "epoch 12, step 136/203, loss 0.0890\n",
      "epoch 12, step 203/203, loss 0.0094\n",
      "accuracy is 0.9852\n",
      "epoch 13, step 68/203, loss 0.0128\n",
      "epoch 13, step 136/203, loss 0.3076\n",
      "epoch 13, step 203/203, loss 0.0484\n",
      "accuracy is 0.9754\n",
      "epoch 14, step 68/203, loss 0.0054\n",
      "epoch 14, step 136/203, loss 0.0257\n",
      "epoch 14, step 203/203, loss 0.0032\n",
      "accuracy is 0.9959\n",
      "epoch 15, step 68/203, loss 0.0295\n",
      "epoch 15, step 136/203, loss 0.0051\n",
      "epoch 15, step 203/203, loss 0.0678\n",
      "accuracy is 0.9938\n",
      "epoch 16, step 68/203, loss 0.0036\n",
      "epoch 16, step 136/203, loss 0.0026\n",
      "epoch 16, step 203/203, loss 0.0778\n",
      "accuracy is 0.9940\n",
      "epoch 17, step 68/203, loss 0.0101\n",
      "epoch 17, step 136/203, loss 0.0032\n",
      "epoch 17, step 203/203, loss 0.0016\n",
      "accuracy is 0.9940\n",
      "epoch 18, step 68/203, loss 0.1684\n",
      "epoch 18, step 136/203, loss 0.1463\n",
      "epoch 18, step 203/203, loss 0.0215\n",
      "accuracy is 0.9607\n",
      "epoch 19, step 68/203, loss 0.0164\n",
      "epoch 19, step 136/203, loss 0.0090\n",
      "epoch 19, step 203/203, loss 0.0025\n",
      "accuracy is 0.9910\n",
      "epoch 20, step 68/203, loss 0.0029\n",
      "epoch 20, step 136/203, loss 0.0018\n",
      "epoch 20, step 203/203, loss 0.0022\n",
      "accuracy is 1.0000\n"
     ]
    }
   ],
   "source": [
    "#training loop\n",
    "num_epochs = 20\n",
    "total_step = len(train_loader)\n",
    "lr = 5e-4\n",
    "\n",
    "loss_fn = nn.CrossEntropyLoss()\n",
    "optimizer = torch.optim.Adam(model.parameters(), lr =lr)\n",
    "\n",
    "\n",
    "correct = 0\n",
    "for epoch in range(1,num_epochs+1):\n",
    "    for i, (inputs, outputs) in enumerate(train_loader):\n",
    "        inputs = inputs.float().to(device)\n",
    "        outputs = outputs.float().to(device)\n",
    "        \n",
    "        logits = model(inputs) \n",
    "        \n",
    "        loss = loss_fn(logits, outputs) #loss fn has softmax in it in pytorch, thats why we work with logits and not predictions\n",
    "        \n",
    "        optimizer.zero_grad()\n",
    "        loss.backward()\n",
    "        optimizer.step()\n",
    "        \n",
    "        correct += accuracy(logits, outputs) #number of correct predictions\n",
    "        \n",
    "\n",
    "        \n",
    "        if (i+1)%(68)==0: #optional loss tracing\n",
    "            print(f\"epoch {epoch}, step {i+1}/{total_step}, loss {loss:.4f}\")\n",
    "    print(f\"epoch {epoch}, step {i+1}/{total_step}, loss {loss:.4f}\")\n",
    "\n",
    "    if epoch%6==0: #handmade learning rate scheduler\n",
    "        lr/=2\n",
    "    \n",
    "    acc = correct/(total_step*75) #calculating accuracy on whole dataset\n",
    "    print(f\"accuracy is {acc:.4f}\")\n",
    "    correct = 0 #resetting for next epoch\n",
    "    \n",
    "    #early stop ;)\n",
    "    #if acc >= 0.99:\n",
    "        #print(\"acc is achieved\")\n",
    "        #break"
   ]
  },
  {
   "cell_type": "code",
   "execution_count": 7,
   "id": "aa4117eb-8b84-43e7-9a5a-10a0af475e46",
   "metadata": {},
   "outputs": [
    {
     "data": {
      "text/plain": [
       "((3780, 4), (3780, 4))"
      ]
     },
     "execution_count": 7,
     "metadata": {},
     "output_type": "execute_result"
    }
   ],
   "source": [
    "#validation\n",
    "preds = []\n",
    "trgets = []\n",
    "\n",
    "model.eval()\n",
    "\n",
    "for inpt, target in test_loader:\n",
    "    inpt = inpt.float().to(device)\n",
    "    target = target.float().to(device)\n",
    "    \n",
    "    with torch.no_grad(): #running model on samples without calcualting grads / we dont use them\n",
    "        logit = model(inpt)\n",
    "        \n",
    "    pred = F.softmax(logit, dim=1) # calculating probabilities\n",
    "    \n",
    "    preds.append(F.one_hot(torch.argmax(pred, dim=1)).cpu().numpy()) #turning probabilities into onehot so that we can calculate confusion matrix\n",
    "    trgets.append(target.cpu().numpy()) #its already in onehot\n",
    "    \n",
    "preds = np.array(preds, dtype=np.int32).reshape(-1,4) #from (steps, batch_size, output) to (samples, output)\n",
    "trgets = np.array(trgets, dtype=np.int32).reshape(-1,4)\n",
    "preds.shape, trgets.shape"
   ]
  },
  {
   "cell_type": "code",
   "execution_count": 8,
   "id": "9a172355-7c8f-4457-93d5-5a2fa19ed3d8",
   "metadata": {},
   "outputs": [
    {
     "data": {
      "text/plain": [
       "((array([0, 1, 2, 3], dtype=int64),\n",
       "  array([1036,  764,  903, 1077], dtype=int64)),\n",
       " (array([0, 1, 2, 3], dtype=int64),\n",
       "  array([1036,  764,  903, 1077], dtype=int64)))"
      ]
     },
     "execution_count": 8,
     "metadata": {},
     "output_type": "execute_result"
    }
   ],
   "source": [
    "pr = np.argmax(preds, axis=1)\n",
    "trues = np.argmax(trgets, axis=1) ## collapsing onehot to index vector among samples\n",
    "\n",
    "np.unique(pr, return_counts=1), np.unique(trues, return_counts=1) #collapsing columns to see distribution"
   ]
  },
  {
   "cell_type": "code",
   "execution_count": 9,
   "id": "d0dfb59a-d97a-4bfe-8f22-128ccb8307f8",
   "metadata": {},
   "outputs": [],
   "source": [
    "#confusion matrix over one class / notice array names are hard coded (preds, trgets)\n",
    "def get_matrix(class1):\n",
    "    zer = 0\n",
    "    one = 0\n",
    "    two = 0\n",
    "    tre = 0\n",
    "\n",
    "    for inx in range(len(preds)):\n",
    "        if np.argmax(trgets[inx]) == class1:\n",
    "            if np.argmax(preds[inx]) == 0:\n",
    "                zer+=1\n",
    "            elif np.argmax(preds[inx]) == 1:\n",
    "                one+=1\n",
    "            elif np.argmax(preds[inx]) == 2:\n",
    "                two+=1\n",
    "            elif np.argmax(preds[inx]) == 3:\n",
    "                tre+=1\n",
    "                \n",
    "\n",
    "    return np.array([zer, one, two, tre], dtype=np.int32)"
   ]
  },
  {
   "cell_type": "code",
   "execution_count": 10,
   "id": "9ca1a048-24c4-45e4-9918-1fd6008cdf43",
   "metadata": {},
   "outputs": [
    {
     "name": "stdout",
     "output_type": "stream",
     "text": [
      "[[1036    0    0    0]\n",
      " [   0  764    0    0]\n",
      " [   0    0  903    0]\n",
      " [   0    0    0 1077]]\n"
     ]
    },
    {
     "data": {
      "text/plain": [
       "array([[1., 0., 0., 0.],\n",
       "       [0., 1., 0., 0.],\n",
       "       [0., 0., 1., 0.],\n",
       "       [0., 0., 0., 1.]], dtype=float32)"
      ]
     },
     "execution_count": 10,
     "metadata": {},
     "output_type": "execute_result"
    }
   ],
   "source": [
    "#calculating stuff\n",
    "asd = np.concatenate([get_matrix(inx) for inx in range(4)])\n",
    "asd = asd.reshape(4,4)\n",
    "print(asd)\n",
    "asd = np.float32(asd)\n",
    "\n",
    "\n",
    "for i in range(len(asd)):\n",
    "    asd[i] = asd[i]/np.sum(asd[i])\n",
    "    \n",
    "mat = np.round(asd, 5)\n",
    "mat"
   ]
  },
  {
   "cell_type": "code",
   "execution_count": 11,
   "id": "45f607d1-eef5-4edb-8dad-c3f6fe72a556",
   "metadata": {},
   "outputs": [
    {
     "data": {
      "image/png": "[encoded data removed]",
      "text/plain": [
       "<Figure size 640x480 with 2 Axes>"
      ]
     },
     "metadata": {},
     "output_type": "display_data"
    }
   ],
   "source": [
    "import seaborn as sns\n",
    "ax = sns.heatmap(mat, annot=True)\n",
    "ax.set(xlabel=\"predictions\", ylabel=\"trues\")\n",
    "plt.show()"
   ]
  },
  {
   "cell_type": "code",
   "execution_count": null,
   "id": "d406e4ab-50cb-4b6b-ad8c-8f5d5dbcf1e8",
   "metadata": {},
   "outputs": [],
   "source": []
  },
  {
   "cell_type": "code",
   "execution_count": null,
   "id": "dab3adeb-78a3-46c6-99b5-cbd8c9e8dd55",
   "metadata": {},
   "outputs": [],
   "source": []
  }
 ],
 "metadata": {
  "kernelspec": {
   "display_name": "Python 3 (ipykernel)",
   "language": "python",
   "name": "python3"
  },
  "language_info": {
   "codemirror_mode": {
    "name": "ipython",
    "version": 3
   },
   "file_extension": ".py",
   "mimetype": "text/x-python",
   "name": "python",
   "nbconvert_exporter": "python",
   "pygments_lexer": "ipython3",
   "version": "3.9.13"
  }
 },
 "nbformat": 4,
 "nbformat_minor": 5
}
