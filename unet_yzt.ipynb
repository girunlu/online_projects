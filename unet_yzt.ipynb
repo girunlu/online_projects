{
 "cells": [
  {
   "cell_type": "code",
   "execution_count": 3,
   "id": "3b733f5a-6e19-48d6-87a8-2e03c82d22c5",
   "metadata": {},
   "outputs": [
    {
     "data": {
      "text/plain": [
       "device(type='cuda')"
      ]
     },
     "execution_count": 3,
     "metadata": {},
     "output_type": "execute_result"
    }
   ],
   "source": [
    "import torch\n",
    "import torch.nn as nn\n",
    "import torch.nn.functional as F\n",
    "\n",
    "import numpy as np\n",
    "import matplotlib.pyplot as plt\n",
    "from torchvision import transforms\n",
    "\n",
    "device = torch.device(\"cuda\" if torch.cuda.is_available() else \"cpu\")\n",
    "device"
   ]
  },
  {
   "cell_type": "code",
   "execution_count": null,
   "id": "51289ece-2f14-4a34-9891-2e230d002495",
   "metadata": {},
   "outputs": [],
   "source": [
    "class UNET(nn.Module):\n",
    "    def __init__(self):\n",
    "        super(UNET, self).__init__()\n",
    "        \n",
    "        self.conv1 = nn.Conv2d(3, 64, 3, padding=1)\n",
    "        self.conv1_ = nn.Conv2d(64, 64, 3, padding=1)\n",
    "        \n",
    "        self.conv2 = nn.Conv2d(64, 128, 3, padding=1)\n",
    "        self.conv2_ = nn.Conv2d(128, 128, 3, padding=1)\n",
    "        \n",
    "        self.conv3 = nn.Conv2d(128, 256, 3, padding=1)\n",
    "        self.conv3_ = nn.Conv2d(256, 256, 3, padding=1)\n",
    "        \n",
    "        self.BN1 = nn.BatchNorm2d(64)\n",
    "        self.BN2 = nn.BatchNorm2d(128)\n",
    "        self.BN3 = nn.BatchNorm2d(256)\n",
    "        \n",
    "        self.relu = nn.ReLU()\n",
    "        self.maxpool = nn.MaxPool2d(2, 2)\n",
    "        \n",
    "        # will be more since we will have more layers\n",
    "        \n",
    "    def forward(self, x):\n",
    "        \n",
    "        #building unet parts (3 operations for each step)\n",
    "        x1 = self.conv1(x)\n",
    "        x1 = self.BN1(x1)\n",
    "        x1 = self.relu(x1)\n",
    "        \n",
    "        x1 = self.conv1_(x1)\n",
    "        x1 = self.BN1(x1)\n",
    "        x1 = self.relu(x1)\n",
    "        x2 = self.maxpool(x1)\n",
    "        \n",
    "        x2 = self.conv2(x2)\n",
    "        x2 = self.BN2(x2)\n",
    "        x2 = self.relu(x2)\n",
    "        \n",
    "        x2 = self.conv2_(x2)\n",
    "        x2 = self.BN2(x2)\n",
    "        x2 = self.relu(x2)\n",
    "        x3 = self.maxpool(x2)\n",
    "        \n",
    "        x3 = (...)\n",
    "        \n",
    "        \n",
    "        \n",
    "        "
   ]
  },
  {
   "cell_type": "code",
   "execution_count": null,
   "id": "ac49acf7-d084-43d4-b945-dd0cc4ff96bb",
   "metadata": {},
   "outputs": [],
   "source": []
  },
  {
   "cell_type": "code",
   "execution_count": null,
   "id": "0e8b75df-7247-4fb5-ae48-c116236952b5",
   "metadata": {},
   "outputs": [],
   "source": []
  },
  {
   "cell_type": "code",
   "execution_count": null,
   "id": "d44e51a4-133e-4c31-8bac-ca913948ada6",
   "metadata": {},
   "outputs": [],
   "source": []
  },
  {
   "cell_type": "code",
   "execution_count": null,
   "id": "cddb4294-f5e6-4408-bb18-a6a27070dded",
   "metadata": {},
   "outputs": [],
   "source": []
  },
  {
   "cell_type": "code",
   "execution_count": null,
   "id": "06204467-ac64-483e-b7d4-6fe36e544693",
   "metadata": {},
   "outputs": [],
   "source": []
  }
 ],
 "metadata": {
  "kernelspec": {
   "display_name": "Python 3 (ipykernel)",
   "language": "python",
   "name": "python3"
  },
  "language_info": {
   "codemirror_mode": {
    "name": "ipython",
    "version": 3
   },
   "file_extension": ".py",
   "mimetype": "text/x-python",
   "name": "python",
   "nbconvert_exporter": "python",
   "pygments_lexer": "ipython3",
   "version": "3.9.13"
  }
 },
 "nbformat": 4,
 "nbformat_minor": 5
}
