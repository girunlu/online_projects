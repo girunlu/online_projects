{
 "cells": [
  {
   "cell_type": "markdown",
   "metadata": {
    "id": "mC1WVk2aEykn"
   },
   "source": [
    "# A Sequence Modeling Pipeline for Weather Prediction\n",
    "\n",
    "In this task, you are to follow a pipeline for training a recurrent network.\n",
    "\n",
    "--All the codes are written by me--"
   ]
  },
  {
   "cell_type": "markdown",
   "metadata": {
    "id": "LvBph3MjXWHh"
   },
   "source": [
    "## 1 Import Modules"
   ]
  },
  {
   "cell_type": "code",
   "execution_count": 1,
   "metadata": {
    "id": "7qwlNQ2mXYoN"
   },
   "outputs": [],
   "source": [
    "import pandas as pd\n",
    "import numpy as np\n",
    "import matplotlib.pyplot as plt"
   ]
  },
  {
   "cell_type": "markdown",
   "metadata": {
    "id": "mAft9BpAFIH4"
   },
   "source": [
    "## 2 Dataset\n",
    "\n",
    "We will use the hourly temperature data for Basel (why Basel? because it was freely available) from [meteoblue](https://www.meteoblue.com/en/weather/archive/export/basel_switzerland_2661604?daterange=2021-06-01%20-%202021-06-23&domain=NEMSAUTO&params%5B%5D=temp2m&min=2021-06-16&max=2021-06-23&utc_offset=2&timeResolution=hourly&temperatureunit=CELSIUS&velocityunit=KILOMETER_PER_HOUR&energyunit=watts&lengthunit=metric&degree_day_type=10%3B30&gddBase=10&gddLimit=30) between 1 June 2021 and 23 June 2021. Here is a description of how you should prepare your dataset from this raw file:\n",
    "\n",
    "* Raw data is available [here](https://ceng.metu.edu.tr/~skalkan/DL/Basel_weather.xlsx) as an XLSX file which was downloaded from [meteoblue](https://www.meteoblue.com/en/weather/archive/export/basel_switzerland_2661604?daterange=2021-06-01%20-%202021-06-23&domain=NEMSAUTO&params%5B%5D=temp2m&min=2021-06-16&max=2021-06-23&utc_offset=2&timeResolution=hourly&temperatureunit=CELSIUS&velocityunit=KILOMETER_PER_HOUR&energyunit=watts&lengthunit=metric&degree_day_type=10%3B30&gddBase=10&gddLimit=30).\n",
    "\n",
    "* Load the file into Python as a NumPy array using [Pandas](https://pp4e-book.github.io/chapters/ch10_scientific_libraries.html#data-handling-analysis-with-pandas). Filter out unnecessary information at the top and convert the first column to an hour index, starting at 0 and finishing at 551.\n",
    "\n",
    "* Split the data into two: A training set from the values between 1 June 2021 and 16 June 2021 (inclusive). A test set from the remaining values.\n",
    "\n",
    "* For each set, slide a time window of six hours and with a stride of 1, and for each position of the window, create a training input-output pair as follows:\n",
    "\n",
    "  $(\\mathbf{x}_i = <T_i, T_{i+1}, T_{i+2}, T_{i+3}, T_{i+4}>, y_i = T_{i+5}),$\n",
    " \n",
    "  where $T_i$ is the temperature at hour index $i$. \n"
   ]
  },
  {
   "cell_type": "code",
   "execution_count": 3,
   "metadata": {
    "tags": []
   },
   "outputs": [
    {
     "data": {
      "text/html": [
       "<div>\n",
       "<style scoped>\n",
       "    .dataframe tbody tr th:only-of-type {\n",
       "        vertical-align: middle;\n",
       "    }\n",
       "\n",
       "    .dataframe tbody tr th {\n",
       "        vertical-align: top;\n",
       "    }\n",
       "\n",
       "    .dataframe thead th {\n",
       "        text-align: right;\n",
       "    }\n",
       "</style>\n",
       "<table border=\"1\" class=\"dataframe\">\n",
       "  <thead>\n",
       "    <tr style=\"text-align: right;\">\n",
       "      <th></th>\n",
       "      <th>date</th>\n",
       "      <th>Basel</th>\n",
       "    </tr>\n",
       "  </thead>\n",
       "  <tbody>\n",
       "    <tr>\n",
       "      <th>0</th>\n",
       "      <td>2021-06-01 00:00:00</td>\n",
       "      <td>13.350529</td>\n",
       "    </tr>\n",
       "    <tr>\n",
       "      <th>1</th>\n",
       "      <td>2021-06-01 01:00:00</td>\n",
       "      <td>12.360529</td>\n",
       "    </tr>\n",
       "    <tr>\n",
       "      <th>2</th>\n",
       "      <td>2021-06-01 02:00:00</td>\n",
       "      <td>11.670529</td>\n",
       "    </tr>\n",
       "    <tr>\n",
       "      <th>3</th>\n",
       "      <td>2021-06-01 03:00:00</td>\n",
       "      <td>10.880529</td>\n",
       "    </tr>\n",
       "    <tr>\n",
       "      <th>4</th>\n",
       "      <td>2021-06-01 04:00:00</td>\n",
       "      <td>10.080529</td>\n",
       "    </tr>\n",
       "  </tbody>\n",
       "</table>\n",
       "</div>"
      ],
      "text/plain": [
       "                 date      Basel\n",
       "0 2021-06-01 00:00:00  13.350529\n",
       "1 2021-06-01 01:00:00  12.360529\n",
       "2 2021-06-01 02:00:00  11.670529\n",
       "3 2021-06-01 03:00:00  10.880529\n",
       "4 2021-06-01 04:00:00  10.080529"
      ]
     },
     "execution_count": 3,
     "metadata": {},
     "output_type": "execute_result"
    }
   ],
   "source": [
    "df = pd.read_csv('data.csv') \n",
    "\n",
    "#clearing the unnecessary info\n",
    "df = df[9:]\n",
    "df = df.reset_index()\n",
    "del df['index'] \n",
    "\n",
    "#adjusting date and checking if there is null value\n",
    "df['location'] = pd.to_datetime(df['location'], format='%Y%m%dT%H')\n",
    "df.rename(columns = {'location':'date'}, inplace = True)\n",
    "df.isnull().sum()\n",
    "df.head()"
   ]
  },
  {
   "cell_type": "code",
   "execution_count": 4,
   "metadata": {
    "tags": []
   },
   "outputs": [
    {
     "data": {
      "text/html": [
       "<div>\n",
       "<style scoped>\n",
       "    .dataframe tbody tr th:only-of-type {\n",
       "        vertical-align: middle;\n",
       "    }\n",
       "\n",
       "    .dataframe tbody tr th {\n",
       "        vertical-align: top;\n",
       "    }\n",
       "\n",
       "    .dataframe thead th {\n",
       "        text-align: right;\n",
       "    }\n",
       "</style>\n",
       "<table border=\"1\" class=\"dataframe\">\n",
       "  <thead>\n",
       "    <tr style=\"text-align: right;\">\n",
       "      <th></th>\n",
       "      <th>date</th>\n",
       "      <th>Basel</th>\n",
       "    </tr>\n",
       "  </thead>\n",
       "  <tbody>\n",
       "    <tr>\n",
       "      <th>0</th>\n",
       "      <td>2021-06-01 00:00:00</td>\n",
       "      <td>13.350529</td>\n",
       "    </tr>\n",
       "    <tr>\n",
       "      <th>1</th>\n",
       "      <td>2021-06-01 01:00:00</td>\n",
       "      <td>12.360529</td>\n",
       "    </tr>\n",
       "    <tr>\n",
       "      <th>2</th>\n",
       "      <td>2021-06-01 02:00:00</td>\n",
       "      <td>11.670529</td>\n",
       "    </tr>\n",
       "    <tr>\n",
       "      <th>3</th>\n",
       "      <td>2021-06-01 03:00:00</td>\n",
       "      <td>10.880529</td>\n",
       "    </tr>\n",
       "    <tr>\n",
       "      <th>4</th>\n",
       "      <td>2021-06-01 04:00:00</td>\n",
       "      <td>10.080529</td>\n",
       "    </tr>\n",
       "    <tr>\n",
       "      <th>...</th>\n",
       "      <td>...</td>\n",
       "      <td>...</td>\n",
       "    </tr>\n",
       "    <tr>\n",
       "      <th>547</th>\n",
       "      <td>2021-06-23 19:00:00</td>\n",
       "      <td>20.850529</td>\n",
       "    </tr>\n",
       "    <tr>\n",
       "      <th>548</th>\n",
       "      <td>2021-06-23 20:00:00</td>\n",
       "      <td>18.860529</td>\n",
       "    </tr>\n",
       "    <tr>\n",
       "      <th>549</th>\n",
       "      <td>2021-06-23 21:00:00</td>\n",
       "      <td>17.820530</td>\n",
       "    </tr>\n",
       "    <tr>\n",
       "      <th>550</th>\n",
       "      <td>2021-06-23 22:00:00</td>\n",
       "      <td>17.190529</td>\n",
       "    </tr>\n",
       "    <tr>\n",
       "      <th>551</th>\n",
       "      <td>2021-06-23 23:00:00</td>\n",
       "      <td>16.560530</td>\n",
       "    </tr>\n",
       "  </tbody>\n",
       "</table>\n",
       "<p>552 rows × 2 columns</p>\n",
       "</div>"
      ],
      "text/plain": [
       "                   date      Basel\n",
       "0   2021-06-01 00:00:00  13.350529\n",
       "1   2021-06-01 01:00:00  12.360529\n",
       "2   2021-06-01 02:00:00  11.670529\n",
       "3   2021-06-01 03:00:00  10.880529\n",
       "4   2021-06-01 04:00:00  10.080529\n",
       "..                  ...        ...\n",
       "547 2021-06-23 19:00:00  20.850529\n",
       "548 2021-06-23 20:00:00  18.860529\n",
       "549 2021-06-23 21:00:00  17.820530\n",
       "550 2021-06-23 22:00:00  17.190529\n",
       "551 2021-06-23 23:00:00  16.560530\n",
       "\n",
       "[552 rows x 2 columns]"
      ]
     },
     "execution_count": 4,
     "metadata": {},
     "output_type": "execute_result"
    }
   ],
   "source": [
    "#converting temperature texts to numeric value\n",
    "lst1 = [float(i) for i in df['Basel']]\n",
    "\n",
    "df['Basel'] = lst1\n",
    "df"
   ]
  },
  {
   "cell_type": "code",
   "execution_count": 5,
   "metadata": {},
   "outputs": [],
   "source": [
    "inx = np.argmax(df['date'] == '2021-06-17 00:00:00') #locating index that corresponds to determined time\n",
    "\n",
    "training = df.iloc[:inx] #splitting datasets\n",
    "test = df.iloc[inx:]\n",
    "\n",
    "test = test.reset_index() #index resetting for better understanding\n",
    "del test['index'] "
   ]
  },
  {
   "cell_type": "code",
   "execution_count": 6,
   "metadata": {},
   "outputs": [],
   "source": [
    "# data preparation for lstm model\n",
    "def prepare(dataset, w_size):\n",
    "    x = []\n",
    "    y = []\n",
    "    \n",
    "    for i in range(len(dataset)-w_size):\n",
    "        x.append(np.array(dataset[i:i+w_size]))  # sequence data for inputs\n",
    "\n",
    "        y.append(np.array(dataset[i+w_size])) # target data for backprop\n",
    "        \n",
    "    return np.array(x), np.array(y)"
   ]
  },
  {
   "cell_type": "code",
   "execution_count": 7,
   "metadata": {},
   "outputs": [],
   "source": [
    "x_train, y_train = prepare(training.Basel, 5)\n",
    "x_test, y_test = prepare(test.Basel, 5)"
   ]
  },
  {
   "cell_type": "code",
   "execution_count": 8,
   "metadata": {
    "tags": []
   },
   "outputs": [
    {
     "name": "stdout",
     "output_type": "stream",
     "text": [
      "Epoch 1/50\n",
      "38/38 [==============================] - 3s 20ms/step - loss: 10.1480 - root_mean_squared_error: 12.1747 - val_loss: 4.7853 - val_root_mean_squared_error: 6.1829\n",
      "Epoch 2/50\n",
      "38/38 [==============================] - 0s 5ms/step - loss: 3.7837 - root_mean_squared_error: 4.4844 - val_loss: 4.8811 - val_root_mean_squared_error: 6.2861\n",
      "Epoch 3/50\n",
      "38/38 [==============================] - 0s 4ms/step - loss: 3.5124 - root_mean_squared_error: 4.2728 - val_loss: 4.0281 - val_root_mean_squared_error: 5.3089\n",
      "Epoch 4/50\n",
      "38/38 [==============================] - 0s 4ms/step - loss: 2.5693 - root_mean_squared_error: 3.2749 - val_loss: 2.4984 - val_root_mean_squared_error: 3.3969\n",
      "Epoch 5/50\n",
      "38/38 [==============================] - 0s 4ms/step - loss: 1.5305 - root_mean_squared_error: 1.9402 - val_loss: 1.7640 - val_root_mean_squared_error: 2.3520\n",
      "Epoch 6/50\n",
      "38/38 [==============================] - 0s 5ms/step - loss: 1.1457 - root_mean_squared_error: 1.5015 - val_loss: 1.5226 - val_root_mean_squared_error: 2.1445\n",
      "Epoch 7/50\n",
      "38/38 [==============================] - 0s 5ms/step - loss: 0.7592 - root_mean_squared_error: 1.0490 - val_loss: 1.2612 - val_root_mean_squared_error: 1.7660\n",
      "Epoch 8/50\n",
      "38/38 [==============================] - 0s 4ms/step - loss: 0.7213 - root_mean_squared_error: 0.9596 - val_loss: 1.2426 - val_root_mean_squared_error: 1.5546\n",
      "Epoch 9/50\n",
      "38/38 [==============================] - 0s 5ms/step - loss: 0.8420 - root_mean_squared_error: 1.0496 - val_loss: 1.0078 - val_root_mean_squared_error: 1.3525\n",
      "Epoch 10/50\n",
      "38/38 [==============================] - 0s 5ms/step - loss: 0.5995 - root_mean_squared_error: 0.8343 - val_loss: 1.3946 - val_root_mean_squared_error: 1.7026\n",
      "Epoch 11/50\n",
      "38/38 [==============================] - 0s 4ms/step - loss: 0.6362 - root_mean_squared_error: 0.8680 - val_loss: 0.9623 - val_root_mean_squared_error: 1.2974\n",
      "Epoch 12/50\n",
      "38/38 [==============================] - 0s 5ms/step - loss: 0.6745 - root_mean_squared_error: 0.9345 - val_loss: 0.9860 - val_root_mean_squared_error: 1.3165\n",
      "Epoch 13/50\n",
      "38/38 [==============================] - 0s 5ms/step - loss: 0.6508 - root_mean_squared_error: 0.8916 - val_loss: 0.8763 - val_root_mean_squared_error: 1.1889\n",
      "Epoch 14/50\n",
      "38/38 [==============================] - 0s 5ms/step - loss: 0.6300 - root_mean_squared_error: 0.8625 - val_loss: 0.8641 - val_root_mean_squared_error: 1.1857\n",
      "Epoch 15/50\n",
      "38/38 [==============================] - 0s 5ms/step - loss: 0.5726 - root_mean_squared_error: 0.8180 - val_loss: 0.8994 - val_root_mean_squared_error: 1.2433\n",
      "Epoch 16/50\n",
      "38/38 [==============================] - 0s 5ms/step - loss: 0.5931 - root_mean_squared_error: 0.8307 - val_loss: 0.9372 - val_root_mean_squared_error: 1.2775\n",
      "Epoch 17/50\n",
      "38/38 [==============================] - 0s 4ms/step - loss: 0.7467 - root_mean_squared_error: 0.9655 - val_loss: 0.9311 - val_root_mean_squared_error: 1.2537\n",
      "Epoch 18/50\n",
      "38/38 [==============================] - 0s 5ms/step - loss: 0.6150 - root_mean_squared_error: 0.8531 - val_loss: 1.1888 - val_root_mean_squared_error: 1.4779\n",
      "Epoch 19/50\n",
      "38/38 [==============================] - 0s 5ms/step - loss: 0.5671 - root_mean_squared_error: 0.7883 - val_loss: 1.0418 - val_root_mean_squared_error: 1.3551\n",
      "Epoch 20/50\n",
      "38/38 [==============================] - 0s 5ms/step - loss: 0.6001 - root_mean_squared_error: 0.8202 - val_loss: 0.8847 - val_root_mean_squared_error: 1.1754\n",
      "Epoch 21/50\n",
      "38/38 [==============================] - 0s 5ms/step - loss: 0.5401 - root_mean_squared_error: 0.7847 - val_loss: 0.7860 - val_root_mean_squared_error: 1.0882\n",
      "Epoch 22/50\n",
      "38/38 [==============================] - 0s 4ms/step - loss: 0.5499 - root_mean_squared_error: 0.7827 - val_loss: 1.0247 - val_root_mean_squared_error: 1.3515\n",
      "Epoch 23/50\n",
      "38/38 [==============================] - 0s 4ms/step - loss: 0.5769 - root_mean_squared_error: 0.7947 - val_loss: 0.7600 - val_root_mean_squared_error: 1.0641\n",
      "Epoch 24/50\n",
      "38/38 [==============================] - 0s 4ms/step - loss: 0.5728 - root_mean_squared_error: 0.7968 - val_loss: 0.8267 - val_root_mean_squared_error: 1.1296\n",
      "Epoch 25/50\n",
      "38/38 [==============================] - 0s 4ms/step - loss: 0.5572 - root_mean_squared_error: 0.7883 - val_loss: 0.7447 - val_root_mean_squared_error: 1.0575\n",
      "Epoch 26/50\n",
      "38/38 [==============================] - 0s 4ms/step - loss: 0.6388 - root_mean_squared_error: 0.8481 - val_loss: 0.8062 - val_root_mean_squared_error: 1.1278\n",
      "Epoch 27/50\n",
      "38/38 [==============================] - 0s 4ms/step - loss: 0.5756 - root_mean_squared_error: 0.8136 - val_loss: 0.7761 - val_root_mean_squared_error: 1.0773\n",
      "Epoch 28/50\n",
      "38/38 [==============================] - 0s 5ms/step - loss: 0.4817 - root_mean_squared_error: 0.7260 - val_loss: 0.7943 - val_root_mean_squared_error: 1.0841\n",
      "Epoch 29/50\n",
      "38/38 [==============================] - 0s 5ms/step - loss: 0.4966 - root_mean_squared_error: 0.7047 - val_loss: 0.7333 - val_root_mean_squared_error: 1.0325\n",
      "Epoch 30/50\n",
      "38/38 [==============================] - 0s 5ms/step - loss: 0.5315 - root_mean_squared_error: 0.7727 - val_loss: 0.7717 - val_root_mean_squared_error: 1.0884\n",
      "Epoch 31/50\n",
      "38/38 [==============================] - 0s 6ms/step - loss: 0.5042 - root_mean_squared_error: 0.7356 - val_loss: 0.7953 - val_root_mean_squared_error: 1.1504\n",
      "Epoch 32/50\n",
      "38/38 [==============================] - 0s 4ms/step - loss: 0.5598 - root_mean_squared_error: 0.7702 - val_loss: 0.7784 - val_root_mean_squared_error: 1.0652\n",
      "Epoch 33/50\n",
      "38/38 [==============================] - 0s 4ms/step - loss: 0.5339 - root_mean_squared_error: 0.7281 - val_loss: 0.9592 - val_root_mean_squared_error: 1.2537\n",
      "Epoch 34/50\n",
      "38/38 [==============================] - 0s 5ms/step - loss: 0.4890 - root_mean_squared_error: 0.7047 - val_loss: 0.7359 - val_root_mean_squared_error: 1.0367\n",
      "Epoch 35/50\n",
      "38/38 [==============================] - 0s 4ms/step - loss: 0.5099 - root_mean_squared_error: 0.7523 - val_loss: 0.9083 - val_root_mean_squared_error: 1.1906\n",
      "Epoch 36/50\n",
      "38/38 [==============================] - 0s 5ms/step - loss: 0.5128 - root_mean_squared_error: 0.7438 - val_loss: 0.7102 - val_root_mean_squared_error: 1.0140\n",
      "Epoch 37/50\n",
      "38/38 [==============================] - 0s 4ms/step - loss: 0.4767 - root_mean_squared_error: 0.7109 - val_loss: 0.7367 - val_root_mean_squared_error: 1.0497\n",
      "Epoch 38/50\n",
      "38/38 [==============================] - 0s 4ms/step - loss: 0.4865 - root_mean_squared_error: 0.7113 - val_loss: 0.7409 - val_root_mean_squared_error: 1.0344\n",
      "Epoch 39/50\n",
      "38/38 [==============================] - 0s 4ms/step - loss: 0.4772 - root_mean_squared_error: 0.7039 - val_loss: 0.8158 - val_root_mean_squared_error: 1.1017\n",
      "Epoch 40/50\n",
      "38/38 [==============================] - 0s 4ms/step - loss: 0.4833 - root_mean_squared_error: 0.7285 - val_loss: 0.7631 - val_root_mean_squared_error: 1.0594\n",
      "Epoch 41/50\n",
      "38/38 [==============================] - 0s 5ms/step - loss: 0.5158 - root_mean_squared_error: 0.7480 - val_loss: 0.8007 - val_root_mean_squared_error: 1.0571\n",
      "Epoch 42/50\n",
      "38/38 [==============================] - 0s 4ms/step - loss: 0.5375 - root_mean_squared_error: 0.7698 - val_loss: 0.7449 - val_root_mean_squared_error: 1.0516\n",
      "Epoch 43/50\n",
      "38/38 [==============================] - 0s 4ms/step - loss: 0.4721 - root_mean_squared_error: 0.7211 - val_loss: 0.7993 - val_root_mean_squared_error: 1.0803\n",
      "Epoch 44/50\n",
      "38/38 [==============================] - 0s 4ms/step - loss: 0.4885 - root_mean_squared_error: 0.7531 - val_loss: 0.7099 - val_root_mean_squared_error: 1.0095\n",
      "Epoch 45/50\n",
      "38/38 [==============================] - 0s 4ms/step - loss: 0.4922 - root_mean_squared_error: 0.7361 - val_loss: 0.7748 - val_root_mean_squared_error: 1.0675\n",
      "Epoch 46/50\n",
      "38/38 [==============================] - 0s 4ms/step - loss: 0.5553 - root_mean_squared_error: 0.7844 - val_loss: 1.0289 - val_root_mean_squared_error: 1.3089\n",
      "Epoch 47/50\n",
      "38/38 [==============================] - 0s 4ms/step - loss: 0.5979 - root_mean_squared_error: 0.8208 - val_loss: 0.9207 - val_root_mean_squared_error: 1.2370\n",
      "Epoch 48/50\n",
      "38/38 [==============================] - 0s 5ms/step - loss: 0.5646 - root_mean_squared_error: 0.7914 - val_loss: 1.0949 - val_root_mean_squared_error: 1.3662\n",
      "Epoch 49/50\n",
      "38/38 [==============================] - 0s 4ms/step - loss: 0.5692 - root_mean_squared_error: 0.7918 - val_loss: 1.3053 - val_root_mean_squared_error: 1.5579\n",
      "Epoch 50/50\n",
      "38/38 [==============================] - 0s 5ms/step - loss: 0.5435 - root_mean_squared_error: 0.7692 - val_loss: 0.7348 - val_root_mean_squared_error: 1.0703\n"
     ]
    },
    {
     "data": {
      "text/plain": [
       "<keras.callbacks.History at 0x1e1f23634f0>"
      ]
     },
     "execution_count": 8,
     "metadata": {},
     "output_type": "execute_result"
    }
   ],
   "source": [
    "from tensorflow.keras.layers import Dense, LSTM\n",
    "from tensorflow.keras.models import Sequential\n",
    "from tensorflow.keras.optimizers import Adam\n",
    "from tensorflow.keras.metrics import RootMeanSquaredError\n",
    "\n",
    "model = Sequential()\n",
    "model.add(LSTM(64, input_shape=(5,1,), return_sequences=False))\n",
    "model.add(Dense(1))\n",
    "\n",
    "model.compile(loss='mae', optimizer=Adam(learning_rate=0.01), metrics = RootMeanSquaredError())\n",
    "model.fit(x_train, y_train, epochs=50, batch_size=10, validation_data=(x_test, y_test), verbose=1)"
   ]
  },
  {
   "cell_type": "markdown",
   "metadata": {
    "id": "2f1DoS6hFXBi"
   },
   "source": [
    "## 7 Analyze the Results"
   ]
  },
  {
   "cell_type": "markdown",
   "metadata": {
    "id": "qgL-j3vNFZQF"
   },
   "source": [
    "### 7.1 Visualize the Loss Curve"
   ]
  },
  {
   "cell_type": "code",
   "execution_count": 9,
   "metadata": {
    "id": "0qTDQ4zyV3Fd"
   },
   "outputs": [
    {
     "data": {
      "image/png": "[encoded data removed]",
      "text/plain": [
       "<Figure size 432x288 with 1 Axes>"
      ]
     },
     "metadata": {
      "needs_background": "light"
     },
     "output_type": "display_data"
    }
   ],
   "source": [
    "# Your implementation comes here\n",
    "plt.plot(model.history.history['loss'])"
   ]
  },
  {
   "cell_type": "markdown",
   "metadata": {
    "id": "5FhKN8bWFfDC"
   },
   "source": [
    "### 7.2 Quantitative Analysis\n",
    "\n",
    "Provide a quantitative analysis of your model on the test set using root mean squared error."
   ]
  },
  {
   "cell_type": "code",
   "execution_count": 10,
   "metadata": {
    "id": "uHt0PJbdV5CW"
   },
   "outputs": [
    {
     "data": {
      "image/png": "[encoded data removed]",
      "text/plain": [
       "<Figure size 432x288 with 1 Axes>"
      ]
     },
     "metadata": {
      "needs_background": "light"
     },
     "output_type": "display_data"
    }
   ],
   "source": [
    "# Your implementation comes here\n",
    "plt.plot(model.history.history['val_root_mean_squared_error'])\n",
    "pass"
   ]
  },
  {
   "cell_type": "markdown",
   "metadata": {
    "id": "2FvUOfTiFh4x"
   },
   "source": [
    "### 7.3 Qualitative Analysis\n",
    "\n",
    "Plot test data and your predictions over a sliding window. Plot two versions of your predictions: (i) Window sliding on the test data and you plot the predictions only. (ii) After obtaining the first prediction on the test data, window sliding over the predictions."
   ]
  },
  {
   "cell_type": "code",
   "execution_count": 11,
   "metadata": {
    "id": "BuzwFvd7V5rU"
   },
   "outputs": [
    {
     "data": {
      "text/plain": [
       "<matplotlib.legend.Legend at 0x2668bf79f40>"
      ]
     },
     "execution_count": 11,
     "metadata": {},
     "output_type": "execute_result"
    },
    {
     "data": {
      "image/png": "[encoded data removed]",
      "text/plain": [
       "<Figure size 432x288 with 1 Axes>"
      ]
     },
     "metadata": {
      "needs_background": "light"
     },
     "output_type": "display_data"
    }
   ],
   "source": [
    "# Your implementation comes here\n",
    "pred = model(x_test)\n",
    "\n",
    "#plt.plot(y_test)\n",
    "plt.plot(pred)\n",
    "\n",
    "#plt.show()\n",
    "xx, yy = prepare(pred, 5)\n",
    "pred2 = model(xx)\n",
    "plt.plot(pred2)\n",
    "plt.legend(['Pred', 'Pred^2'])"
   ]
  },
  {
   "cell_type": "markdown",
   "metadata": {
    "id": "4sga8XVbNHUf"
   },
   "source": [
    "## 8 Tune Your Model\n",
    "\n",
    "Tune the following aspects for your model and provide a figure or a table in each case:\n",
    "\n",
    "- Number of hidden neurons.\n",
    "- Learning rate.\n",
    "- Batch size.\n",
    "\n",
    "Report the performance of the best model after tuning."
   ]
  },
  {
   "cell_type": "code",
   "execution_count": 9,
   "metadata": {
    "tags": []
   },
   "outputs": [],
   "source": [
    "rates = [0.01, 0.001, 0.0001]\n",
    "neurons = [32, 64, 128]\n",
    "batch = [5,10,30]\n",
    "\n",
    "dict = {'rate':[], 'neuron':[], 'bsize':[], 'train_loss': [], 'val_loss':[]}\n",
    "\n",
    "for lr in rates:\n",
    "    for neuron in neurons:\n",
    "        for bsize in batch:\n",
    "            \n",
    "            model = Sequential()\n",
    "            model.add(LSTM(neuron, input_shape=(5,1,), return_sequences=False))\n",
    "            model.add(Dense(1))\n",
    "\n",
    "            model.compile(loss='mae', optimizer=Adam(learning_rate=lr), metrics = RootMeanSquaredError())\n",
    "            model.fit(x_train, y_train, epochs=30, batch_size=bsize, validation_data=(x_test, y_test), verbose=0)\n",
    "\n",
    "            #for overall dataframe, storing the corresponding values\n",
    "            dict['rate'].append(lr)\n",
    "            dict['neuron'].append(neuron)\n",
    "            dict['bsize'].append(bsize)\n",
    "            dict['train_loss'].append(model.history.history['loss'][-1])\n",
    "            dict['val_loss'].append(model.history.history['val_loss'][-1])"
   ]
  },
  {
   "cell_type": "code",
   "execution_count": 10,
   "metadata": {},
   "outputs": [
    {
     "data": {
      "text/html": [
       "<div>\n",
       "<style scoped>\n",
       "    .dataframe tbody tr th:only-of-type {\n",
       "        vertical-align: middle;\n",
       "    }\n",
       "\n",
       "    .dataframe tbody tr th {\n",
       "        vertical-align: top;\n",
       "    }\n",
       "\n",
       "    .dataframe thead th {\n",
       "        text-align: right;\n",
       "    }\n",
       "</style>\n",
       "<table border=\"1\" class=\"dataframe\">\n",
       "  <thead>\n",
       "    <tr style=\"text-align: right;\">\n",
       "      <th></th>\n",
       "      <th>rate</th>\n",
       "      <th>neuron</th>\n",
       "      <th>bsize</th>\n",
       "      <th>train_loss</th>\n",
       "      <th>val_loss</th>\n",
       "    </tr>\n",
       "  </thead>\n",
       "  <tbody>\n",
       "    <tr>\n",
       "      <th>0</th>\n",
       "      <td>0.010</td>\n",
       "      <td>64</td>\n",
       "      <td>10</td>\n",
       "      <td>0.542324</td>\n",
       "      <td>0.725196</td>\n",
       "    </tr>\n",
       "    <tr>\n",
       "      <th>1</th>\n",
       "      <td>0.001</td>\n",
       "      <td>128</td>\n",
       "      <td>5</td>\n",
       "      <td>0.494300</td>\n",
       "      <td>0.765452</td>\n",
       "    </tr>\n",
       "    <tr>\n",
       "      <th>2</th>\n",
       "      <td>0.010</td>\n",
       "      <td>32</td>\n",
       "      <td>10</td>\n",
       "      <td>0.582648</td>\n",
       "      <td>0.768534</td>\n",
       "    </tr>\n",
       "    <tr>\n",
       "      <th>3</th>\n",
       "      <td>0.010</td>\n",
       "      <td>32</td>\n",
       "      <td>5</td>\n",
       "      <td>0.537445</td>\n",
       "      <td>0.775467</td>\n",
       "    </tr>\n",
       "    <tr>\n",
       "      <th>4</th>\n",
       "      <td>0.010</td>\n",
       "      <td>64</td>\n",
       "      <td>5</td>\n",
       "      <td>0.553144</td>\n",
       "      <td>0.795534</td>\n",
       "    </tr>\n",
       "  </tbody>\n",
       "</table>\n",
       "</div>"
      ],
      "text/plain": [
       "    rate  neuron  bsize  train_loss  val_loss\n",
       "0  0.010      64     10    0.542324  0.725196\n",
       "1  0.001     128      5    0.494300  0.765452\n",
       "2  0.010      32     10    0.582648  0.768534\n",
       "3  0.010      32      5    0.537445  0.775467\n",
       "4  0.010      64      5    0.553144  0.795534"
      ]
     },
     "execution_count": 10,
     "metadata": {},
     "output_type": "execute_result"
    }
   ],
   "source": [
    "dff = pd.DataFrame(dict)\n",
    "df2 = dff.sort_values('val_loss')\n",
    "asd = df2[(df2['train_loss'] < .6) & (df2['val_loss'] < .8)]\n",
    "asd = asd.reset_index()\n",
    "del asd['index']\n",
    "asd"
   ]
  },
  {
   "cell_type": "code",
   "execution_count": null,
   "metadata": {},
   "outputs": [],
   "source": []
  }
 ],
 "metadata": {
  "colab": {
   "collapsed_sections": [],
   "name": "CENG501 - Spring2022 - PA3 - Task - temperature prediction with LSTM.ipynb adlı not defterinin kopyası",
   "provenance": [],
   "toc_visible": true
  },
  "kernelspec": {
   "display_name": "Python 3.9.12 ('base')",
   "language": "python",
   "name": "python3"
  },
  "language_info": {
   "codemirror_mode": {
    "name": "ipython",
    "version": 3
   },
   "file_extension": ".py",
   "mimetype": "text/x-python",
   "name": "python",
   "nbconvert_exporter": "python",
   "pygments_lexer": "ipython3",
   "version": "3.9.12"
  },
  "vscode": {
   "interpreter": {
    "hash": "9172a090d4de94eb574da32470c8f6654ecc4ea109128a909e7a85fa289dd9bc"
   }
  }
 },
 "nbformat": 4,
 "nbformat_minor": 4
}
